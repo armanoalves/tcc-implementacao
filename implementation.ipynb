{
 "cells": [
  {
   "cell_type": "code",
   "execution_count": 100,
   "metadata": {},
   "outputs": [
    {
     "name": "stdout",
     "output_type": "stream",
     "text": [
      "./data\\cidds-001-externalserver.parquet\n",
      "./data\\cidds-001-openstack.parquet\n"
     ]
    }
   ],
   "source": [
    "import numpy as np\n",
    "import pandas as pd\n",
    "import multiprocessing\n",
    "\n",
    "import os\n",
    "for dirname, _, filenames in os.walk('./data'):\n",
    "    for filename in filenames:\n",
    "        print(os.path.join(dirname, filename))\n",
    "\n",
    "\n",
    "multiprocessing.set_start_method('spawn', force=True)\n"
   ]
  },
  {
   "cell_type": "code",
   "execution_count": 133,
   "metadata": {},
   "outputs": [],
   "source": [
    "from sklearn.tree import DecisionTreeClassifier\n",
    "from sklearn.metrics import roc_auc_score, roc_curve, precision_score, recall_score, f1_score, accuracy_score, auc, RocCurveDisplay, ConfusionMatrixDisplay, confusion_matrix\n",
    "from xgboost import XGBClassifier\n",
    "from fastcore.basics import *\n",
    "from fastcore.parallel import *\n",
    "from os import cpu_count\n",
    "import seaborn as sns\n",
    "import matplotlib.pyplot as plt"
   ]
  },
  {
   "cell_type": "code",
   "execution_count": 102,
   "metadata": {},
   "outputs": [
    {
     "name": "stderr",
     "output_type": "stream",
     "text": [
      "<>:2: SyntaxWarning: invalid escape sequence '\\c'\n",
      "<>:3: SyntaxWarning: invalid escape sequence '\\c'\n",
      "<>:2: SyntaxWarning: invalid escape sequence '\\c'\n",
      "<>:3: SyntaxWarning: invalid escape sequence '\\c'\n",
      "C:\\Users\\arman\\AppData\\Local\\Temp\\ipykernel_7472\\2044962693.py:2: SyntaxWarning: invalid escape sequence '\\c'\n",
      "  pd.read_parquet('./data\\cidds-001-openstack.parquet'),\n",
      "C:\\Users\\arman\\AppData\\Local\\Temp\\ipykernel_7472\\2044962693.py:3: SyntaxWarning: invalid escape sequence '\\c'\n",
      "  pd.read_parquet('./data\\cidds-001-externalserver.parquet')\n"
     ]
    },
    {
     "data": {
      "text/plain": [
       "(4366182, 15)"
      ]
     },
     "execution_count": 102,
     "metadata": {},
     "output_type": "execute_result"
    }
   ],
   "source": [
    "df = pd.concat(objs=[\n",
    "    pd.read_parquet('./data\\cidds-001-openstack.parquet'),\n",
    "    pd.read_parquet('./data\\cidds-001-externalserver.parquet')\n",
    "], copy=False, sort=False, ignore_index=True)\n",
    "df.shape"
   ]
  },
  {
   "cell_type": "code",
   "execution_count": 103,
   "metadata": {},
   "outputs": [
    {
     "data": {
      "text/plain": [
       "Index(['duration', 'proto', 'packets', 'bytes', 'flows', 'tcp_urg', 'tcp_ack',\n",
       "       'tcp_psh', 'tcp_rst', 'tcp_syn', 'tcp_fin', 'tos', 'label',\n",
       "       'attack_type', 'attack_id'],\n",
       "      dtype='object')"
      ]
     },
     "execution_count": 103,
     "metadata": {},
     "output_type": "execute_result"
    }
   ],
   "source": [
    "df.columns"
   ]
  },
  {
   "cell_type": "code",
   "execution_count": 104,
   "metadata": {},
   "outputs": [
    {
     "name": "stdout",
     "output_type": "stream",
     "text": [
      "(4366182, 15)\n",
      "(4366157, 15)\n"
     ]
    },
    {
     "data": {
      "text/plain": [
       "(4366157, 15)"
      ]
     },
     "execution_count": 104,
     "metadata": {},
     "output_type": "execute_result"
    }
   ],
   "source": [
    "print(df.shape)\n",
    "df.drop_duplicates(inplace=True)\n",
    "print(df.shape)\n",
    "df.dropna(inplace=True)\n",
    "df.shape"
   ]
  },
  {
   "cell_type": "code",
   "execution_count": 105,
   "metadata": {},
   "outputs": [
    {
     "data": {
      "text/plain": [
       "(4366157, 13)"
      ]
     },
     "execution_count": 105,
     "metadata": {},
     "output_type": "execute_result"
    }
   ],
   "source": [
    "df = df.drop(columns=['label', 'attack_id'])\n",
    "df.shape"
   ]
  },
  {
   "cell_type": "code",
   "execution_count": 106,
   "metadata": {},
   "outputs": [],
   "source": [
    "df['proto'] = df['proto'].astype('object')\n",
    "df['proto'] = df['proto'].str.strip()\n",
    "df['proto'] = df['proto'].astype('category')\n",
    "df['proto'] = df['proto'].cat.codes\n",
    "df['proto'] = df['proto'].astype(np.int32)"
   ]
  },
  {
   "cell_type": "code",
   "execution_count": 107,
   "metadata": {},
   "outputs": [
    {
     "name": "stdout",
     "output_type": "stream",
     "text": [
      "attack_type\n",
      "0    4354282\n",
      "1      11875\n",
      "Name: count, dtype: int64\n"
     ]
    }
   ],
   "source": [
    "df['attack_type'] = df['attack_type'].astype('object')\n",
    "df.loc[df['attack_type'] != 'benign', 'attack_type'] = 1\n",
    "df.loc[df['attack_type'] == 'benign', 'attack_type'] = 0\n",
    "print(df['attack_type'].value_counts())\n",
    "df['attack_type'] = df['attack_type'].astype(dtype=np.int32)"
   ]
  },
  {
   "cell_type": "code",
   "execution_count": 108,
   "metadata": {},
   "outputs": [
    {
     "data": {
      "text/plain": [
       "12"
      ]
     },
     "execution_count": 108,
     "metadata": {},
     "output_type": "execute_result"
    }
   ],
   "source": [
    "target = 'attack_type'\n",
    "conts = list(df.columns.difference([target]).values)\n",
    "len(conts)"
   ]
  },
  {
   "cell_type": "code",
   "execution_count": 109,
   "metadata": {},
   "outputs": [
    {
     "data": {
      "text/plain": [
       "((873231, 13), (3492926, 13))"
      ]
     },
     "execution_count": 109,
     "metadata": {},
     "output_type": "execute_result"
    }
   ],
   "source": [
    "df_train = df.sample(frac=0.2, replace=False)\n",
    "df_test = df.drop(index=df_train.index)\n",
    "df_train.shape, df_test.shape"
   ]
  },
  {
   "cell_type": "code",
   "execution_count": 110,
   "metadata": {},
   "outputs": [
    {
     "data": {
      "text/plain": [
       "attack_type  tcp_ack\n",
       "0            1          861250\n",
       "             0            9567\n",
       "1            1            2025\n",
       "             0             389\n",
       "Name: count, dtype: int64"
      ]
     },
     "execution_count": 110,
     "metadata": {},
     "output_type": "execute_result"
    }
   ],
   "source": [
    "df_train.groupby('attack_type')['tcp_ack'].value_counts()"
   ]
  },
  {
   "cell_type": "code",
   "execution_count": 111,
   "metadata": {},
   "outputs": [
    {
     "data": {
      "text/plain": [
       "attack_type  duration   \n",
       "0            0.000000       4209\n",
       "             0.033000       2045\n",
       "             0.036000       2041\n",
       "             0.032000       2017\n",
       "             0.035000       2008\n",
       "                            ... \n",
       "1            19.009001         1\n",
       "             26.198999         1\n",
       "             45.076000         1\n",
       "             808.742004        1\n",
       "             1081.567017       1\n",
       "Name: count, Length: 25248, dtype: int64"
      ]
     },
     "execution_count": 111,
     "metadata": {},
     "output_type": "execute_result"
    }
   ],
   "source": [
    "df_train.groupby('attack_type')['duration'].value_counts()"
   ]
  },
  {
   "cell_type": "code",
   "execution_count": 112,
   "metadata": {},
   "outputs": [],
   "source": [
    "def xs_y(df_, targ): \n",
    "    if not isinstance(targ, list):\n",
    "        xs = df_[df_.columns.difference([targ])].copy()\n",
    "    else:\n",
    "        xs = df_[df_.columns.difference(targ)].copy()\n",
    "    y = df_[targ].copy()\n",
    "    return xs, y"
   ]
  },
  {
   "cell_type": "code",
   "execution_count": 113,
   "metadata": {},
   "outputs": [],
   "source": [
    "X_train, y_train = xs_y(df_train, targ=target)\n",
    "X_test, y_test = xs_y(df_test, targ=target)"
   ]
  },
  {
   "cell_type": "code",
   "execution_count": 114,
   "metadata": {},
   "outputs": [],
   "source": [
    "def evaluate_one_feature(feature, metric=roc_auc_score):    \n",
    "    # Treinar o modelo Decision Tree\n",
    "    rootnode = DecisionTreeClassifier(max_depth=3, criterion='gini', class_weight='balanced')    \n",
    "    rootnode.fit(X_train[feature].array.reshape(-1,1), y_train)    \n",
    "\n",
    "    # Previsões\n",
    "    preds = rootnode.predict(X_test[feature].array.reshape(-1,1))\n",
    "    preds_tr = rootnode.predict(X_train[feature].array.reshape(-1,1))    \n",
    "\n",
    "    # Métrica\n",
    "    met = round(metric(y_test, preds), 4)\n",
    "    if met > 0.5:\n",
    "        return [feature, met, rootnode, preds, preds_tr]\n",
    "    else:\n",
    "        return [feature, met, None, [], []]\n",
    "    \n",
    "def evaluate_one_feature_rf(feature, metric=roc_auc_score):   \n",
    "    # Treinar o modelo Random Florest \n",
    "    model = RandomForestClassifier(n_estimators=10, max_depth=3, class_weight='balanced', random_state=42)    \n",
    "    model.fit(X_train[feature].array.reshape(-1, 1), y_train)    \n",
    "\n",
    "    # Previsões\n",
    "    preds = model.predict(X_test[feature].array.reshape(-1, 1))\n",
    "    preds_tr = model.predict(X_train[feature].array.reshape(-1, 1))    \n",
    "\n",
    "    # Métrica\n",
    "    met = round(metric(y_test, preds), 4)\n",
    "    if met > 0.5:\n",
    "        return [feature, met, model, preds, preds_tr]\n",
    "    else:\n",
    "        return [feature, met, None, [], []]\n",
    "    \n",
    "def evaluate_one_feature_xgboost(feature, metric=roc_auc_score):    \n",
    "    # Treinar o modelo XGBoost\n",
    "    xgb_model = XGBClassifier(eval_metric='logloss', scale_pos_weight=len(y_train[y_train == 0]) / len(y_train[y_train == 1]))\n",
    "    xgb_model.fit(X_train[feature].array.reshape(-1, 1), y_train)\n",
    "    \n",
    "    # Previsões\n",
    "    preds = xgb_model.predict(X_test[feature].array.reshape(-1, 1))\n",
    "    preds_tr = xgb_model.predict(X_train[feature].array.reshape(-1, 1))\n",
    "    \n",
    "    # Métrica\n",
    "    met = round(metric(y_test, preds), 4)\n",
    "    if met > 0.5:\n",
    "        return [feature, met, xgb_model, preds, preds_tr]\n",
    "    else:\n",
    "        return [feature, met, None, [], []]"
   ]
  },
  {
   "cell_type": "code",
   "execution_count": 115,
   "metadata": {},
   "outputs": [
    {
     "name": "stdout",
     "output_type": "stream",
     "text": [
      "Due to IPython and Windows limitation, python multiprocessing isn't available now.\n",
      "So `max_workers` has to be changed to 0 to avoid getting stuck\n"
     ]
    },
    {
     "data": {
      "text/html": [
       "\n",
       "<style>\n",
       "    /* Turns off some styling */\n",
       "    progress {\n",
       "        /* gets rid of default border in Firefox and Opera. */\n",
       "        border: none;\n",
       "        /* Needs to be in here for Safari polyfill so background images work as expected. */\n",
       "        background-size: auto;\n",
       "    }\n",
       "    progress:not([value]), progress:not([value])::-webkit-progress-bar {\n",
       "        background: repeating-linear-gradient(45deg, #7e7e7e, #7e7e7e 10px, #5c5c5c 10px, #5c5c5c 20px);\n",
       "    }\n",
       "    .progress-bar-interrupted, .progress-bar-interrupted::-webkit-progress-bar {\n",
       "        background: #F44336;\n",
       "    }\n",
       "</style>\n"
      ],
      "text/plain": [
       "<IPython.core.display.HTML object>"
      ]
     },
     "metadata": {},
     "output_type": "display_data"
    },
    {
     "data": {
      "text/html": [],
      "text/plain": [
       "<IPython.core.display.HTML object>"
      ]
     },
     "metadata": {},
     "output_type": "display_data"
    }
   ],
   "source": [
    "results_dst = parallel(f=evaluate_one_feature, items=conts, n_workers=cpu_count(), threadpool=False, progress=True)"
   ]
  },
  {
   "cell_type": "code",
   "execution_count": 116,
   "metadata": {},
   "outputs": [
    {
     "name": "stdout",
     "output_type": "stream",
     "text": [
      "Due to IPython and Windows limitation, python multiprocessing isn't available now.\n",
      "So `max_workers` has to be changed to 0 to avoid getting stuck\n"
     ]
    },
    {
     "data": {
      "text/html": [
       "\n",
       "<style>\n",
       "    /* Turns off some styling */\n",
       "    progress {\n",
       "        /* gets rid of default border in Firefox and Opera. */\n",
       "        border: none;\n",
       "        /* Needs to be in here for Safari polyfill so background images work as expected. */\n",
       "        background-size: auto;\n",
       "    }\n",
       "    progress:not([value]), progress:not([value])::-webkit-progress-bar {\n",
       "        background: repeating-linear-gradient(45deg, #7e7e7e, #7e7e7e 10px, #5c5c5c 10px, #5c5c5c 20px);\n",
       "    }\n",
       "    .progress-bar-interrupted, .progress-bar-interrupted::-webkit-progress-bar {\n",
       "        background: #F44336;\n",
       "    }\n",
       "</style>\n"
      ],
      "text/plain": [
       "<IPython.core.display.HTML object>"
      ]
     },
     "metadata": {},
     "output_type": "display_data"
    },
    {
     "data": {
      "text/html": [],
      "text/plain": [
       "<IPython.core.display.HTML object>"
      ]
     },
     "metadata": {},
     "output_type": "display_data"
    }
   ],
   "source": [
    "results_rf = parallel(f=evaluate_one_feature_rf, items=conts, n_workers=cpu_count(), threadpool=False, progress=True)"
   ]
  },
  {
   "cell_type": "code",
   "execution_count": 117,
   "metadata": {},
   "outputs": [
    {
     "name": "stdout",
     "output_type": "stream",
     "text": [
      "Due to IPython and Windows limitation, python multiprocessing isn't available now.\n",
      "So `max_workers` has to be changed to 0 to avoid getting stuck\n"
     ]
    },
    {
     "data": {
      "text/html": [
       "\n",
       "<style>\n",
       "    /* Turns off some styling */\n",
       "    progress {\n",
       "        /* gets rid of default border in Firefox and Opera. */\n",
       "        border: none;\n",
       "        /* Needs to be in here for Safari polyfill so background images work as expected. */\n",
       "        background-size: auto;\n",
       "    }\n",
       "    progress:not([value]), progress:not([value])::-webkit-progress-bar {\n",
       "        background: repeating-linear-gradient(45deg, #7e7e7e, #7e7e7e 10px, #5c5c5c 10px, #5c5c5c 20px);\n",
       "    }\n",
       "    .progress-bar-interrupted, .progress-bar-interrupted::-webkit-progress-bar {\n",
       "        background: #F44336;\n",
       "    }\n",
       "</style>\n"
      ],
      "text/plain": [
       "<IPython.core.display.HTML object>"
      ]
     },
     "metadata": {},
     "output_type": "display_data"
    },
    {
     "data": {
      "text/html": [],
      "text/plain": [
       "<IPython.core.display.HTML object>"
      ]
     },
     "metadata": {},
     "output_type": "display_data"
    }
   ],
   "source": [
    "# Executar em paralelo para XGBoost\n",
    "results_xgb = parallel(f=evaluate_one_feature_xgboost, items=conts, n_workers=cpu_count(), threadpool=False, progress=True)"
   ]
  },
  {
   "cell_type": "code",
   "execution_count": 118,
   "metadata": {},
   "outputs": [],
   "source": [
    "def process_results(results, threshold=0.5):\n",
    "    \"\"\"\n",
    "    Processa os resultados de um modelo, retornando o DataFrame ordenado e as features úteis.\n",
    "\n",
    "    Args:\n",
    "        results (list): Lista de resultados no formato [feature, roc_auc_score, fitted_models, predictions, preds_train].\n",
    "        threshold (float): Valor mínimo para considerar uma feature como útil.\n",
    "\n",
    "    Returns:\n",
    "        pd.DataFrame: DataFrame ordenado com os resultados.\n",
    "        pd.DataFrame: DataFrame com as features úteis (roc_auc_score > threshold).\n",
    "    \"\"\"\n",
    "    result_df = pd.DataFrame(\n",
    "        data=results, \n",
    "        columns=['feature', 'roc_auc_score', 'fitted_models', 'predictions', 'preds_train']\n",
    "    ).sort_values(by='roc_auc_score', ascending=False)\n",
    "    \n",
    "    useful_features = result_df.loc[result_df['roc_auc_score'] > threshold]\n",
    "    return useful_features"
   ]
  },
  {
   "cell_type": "code",
   "execution_count": 119,
   "metadata": {},
   "outputs": [],
   "source": [
    "# Decision Tree\n",
    "useful_features_dst = process_results(results_dst)\n",
    "\n",
    "# Random Florest\n",
    "useful_features_rf = process_results(results_rf)\n",
    "\n",
    "# XGBoost\n",
    "useful_features_xgb = process_results(results_xgb)"
   ]
  },
  {
   "cell_type": "code",
   "execution_count": 120,
   "metadata": {},
   "outputs": [],
   "source": [
    "def compute_ensemble_predictions(useful_features, pred_col='predictions', train_col='preds_train'):\n",
    "    \"\"\"\n",
    "    Computa as previsões de ensemble para teste e treino.\n",
    "\n",
    "    Args:\n",
    "        useful_features (pd.DataFrame): DataFrame com colunas de previsões e previsões de treino.\n",
    "        pred_col (str): Nome da coluna que contém as previsões para o conjunto de teste.\n",
    "        train_col (str): Nome da coluna que contém as previsões para o conjunto de treino.\n",
    "\n",
    "    Returns:\n",
    "        tuple: Previsões de ensemble para teste e treino.\n",
    "    \"\"\"\n",
    "    ensemble_preds = np.mean(np.vstack(useful_features[pred_col].to_numpy()), axis=0)\n",
    "    ensemble_preds_train = np.mean(np.vstack(useful_features[train_col].to_numpy()), axis=0)\n",
    "    return ensemble_preds, ensemble_preds_train"
   ]
  },
  {
   "cell_type": "code",
   "execution_count": 121,
   "metadata": {},
   "outputs": [],
   "source": [
    "# Decision Tree\n",
    "ensemble_preds_dst, ensemble_preds_train_dst = compute_ensemble_predictions(useful_features_dst)\n",
    "\n",
    "# Random Forest\n",
    "ensemble_preds_rf, ensemble_preds_train_rf = compute_ensemble_predictions(useful_features_rf)\n",
    "\n",
    "# XGBoost\n",
    "ensemble_preds_xgb, ensemble_preds_train_xgb = compute_ensemble_predictions(useful_features_xgb)"
   ]
  },
  {
   "cell_type": "code",
   "execution_count": 122,
   "metadata": {},
   "outputs": [],
   "source": [
    "def plot_roc_curves(models, y_true):\n",
    "    \"\"\"\n",
    "    Plota as curvas ROC de múltiplos modelos em um único gráfico.\n",
    "\n",
    "    Args:\n",
    "        models (dict): Dicionário com o nome do modelo como chave e as previsões como valor.\n",
    "        y_true (array-like): Valores reais (ground truth).\n",
    "\n",
    "    Returns:\n",
    "        dict: Dicionário com os melhores thresholds e AUCs para cada modelo.\n",
    "    \"\"\"\n",
    "    plt.figure(figsize=(10, 8))\n",
    "    thresholds_and_aucs = {}\n",
    "\n",
    "    for model_name, predictions in models.items():\n",
    "        # Calcula os valores de ROC\n",
    "        fpr, tpr, thresholds = roc_curve(y_true, predictions)\n",
    "        roc_auc = auc(fpr, tpr)\n",
    "\n",
    "        # Melhor threshold\n",
    "        J = tpr - fpr\n",
    "        ix = np.argmax(J)\n",
    "        best_thresh = thresholds[ix]\n",
    "        thresholds_and_aucs[model_name] = {\"best_thresh\": best_thresh, \"roc_auc\": roc_auc}\n",
    "\n",
    "        # Plota a curva ROC\n",
    "        plt.plot(fpr, tpr, label=f\"{model_name} (AUC = {roc_auc:.4f})\")\n",
    "\n",
    "    # Configurações do gráfico\n",
    "    plt.plot([0, 1], [0, 1], linestyle='--', color='gray', label='Random Guess')\n",
    "    plt.title('ROC Curves for Models', fontsize=16)\n",
    "    plt.xlabel('False Positive Rate (FPR)', fontsize=14)\n",
    "    plt.ylabel('True Positive Rate (TPR)', fontsize=14)\n",
    "    plt.legend(loc=\"lower right\", fontsize=12)\n",
    "    plt.grid()\n",
    "    plt.show()\n",
    "\n",
    "    return thresholds_and_aucs"
   ]
  },
  {
   "cell_type": "code",
   "execution_count": 123,
   "metadata": {},
   "outputs": [
    {
     "data": {
      "image/png": "[encoded data removed]",
      "text/plain": [
       "<Figure size 1000x800 with 1 Axes>"
      ]
     },
     "metadata": {},
     "output_type": "display_data"
    },
    {
     "name": "stdout",
     "output_type": "stream",
     "text": [
      "Decision Tree Ensemble: Best Threshold = 0.5000, AUC = 0.9658\n",
      "Random Forest Ensemble: Best Threshold = 0.5000, AUC = 0.9656\n",
      "XGBoost Ensemble: Best Threshold = 0.5000, AUC = 0.9747\n"
     ]
    }
   ],
   "source": [
    "# Dicionário com os modelos e suas previsões para treino\n",
    "model_predictions = {\n",
    "    \"Decision Tree Ensemble\": ensemble_preds_train_dst,\n",
    "    \"Random Forest Ensemble\": ensemble_preds_train_rf,\n",
    "    \"XGBoost Ensemble\": ensemble_preds_train_xgb\n",
    "}\n",
    "\n",
    "# Plota as curvas ROC para os três modelos\n",
    "thresholds_and_aucs = plot_roc_curves(model_predictions, y_train)\n",
    "\n",
    "# Exibe os resultados\n",
    "for model, metrics in thresholds_and_aucs.items():\n",
    "    print(f\"{model}: Best Threshold = {metrics['best_thresh']:.4f}, AUC = {metrics['roc_auc']:.4f}\")\n"
   ]
  },
  {
   "cell_type": "code",
   "execution_count": 131,
   "metadata": {},
   "outputs": [
    {
     "name": "stdout",
     "output_type": "stream",
     "text": [
      "{'Decision Tree Ensemble': {'best_thresh': np.float64(0.5), 'roc_auc': np.float64(0.9657500102996822)}, 'Random Forest Ensemble': {'best_thresh': np.float64(0.5), 'roc_auc': np.float64(0.9656387407656438)}, 'XGBoost Ensemble': {'best_thresh': np.float64(0.5), 'roc_auc': np.float64(0.9746939624360356)}}\n",
      "Evaluating Ensemble Decision Tree...\n",
      "Best threshold: 0.5\n",
      "The Ensemble Ensemble Decision Tree (simple average)\n",
      "ROC-AUC: 0.9646\n",
      "Precision: 0.0556\n",
      "Recall: 0.9305\n",
      "F1 Score: 0.105\n",
      "----------------------------------------\n",
      "Evaluating Ensemble Random Forest...\n",
      "Best threshold: 0.5\n",
      "The Ensemble Ensemble Random Forest (simple average)\n",
      "ROC-AUC: 0.9651\n",
      "Precision: 0.0634\n",
      "Recall: 0.9228\n",
      "F1 Score: 0.1187\n",
      "----------------------------------------\n",
      "Evaluating Ensemble XGBoost...\n",
      "Best threshold: 0.5\n",
      "The Ensemble Ensemble XGBoost (simple average)\n",
      "ROC-AUC: 0.9711\n",
      "Precision: 0.0615\n",
      "Recall: 0.924\n",
      "F1 Score: 0.1154\n",
      "----------------------------------------\n"
     ]
    }
   ],
   "source": [
    "def evaluate_model_metrics(predictions, best_threshold, y_true, model_name=\"Model\"):\n",
    "    \"\"\"\n",
    "    Avalia as métricas de um modelo com base em um conjunto de previsões e um threshold.\n",
    "    \n",
    "    Args:\n",
    "        predictions (array-like): Previsões do modelo.\n",
    "        best_threshold (float): O threshold ótimo para o modelo.\n",
    "        y_true (array-like): Verdadeiros rótulos.\n",
    "        model_name (str): Nome do modelo, como string.\n",
    "        \n",
    "    Prints:\n",
    "        Exibe o Best Threshold, AUC, Precision, Recall e F1-Score.\n",
    "    \"\"\"\n",
    "    print(f\"Evaluating {model_name}...\")\n",
    "    print(f\"Best threshold: {round(best_threshold, 4)}\")\n",
    "    print(f\"The Ensemble {model_name} (simple average)\")\n",
    "\n",
    "    # Calculando as métricas\n",
    "    auc = round(roc_auc_score(y_true, predictions), 4)\n",
    "    precision = round(precision_score(y_true, np.where(predictions >= best_threshold, 1, 0)), 4)\n",
    "    recall = round(recall_score(y_true, np.where(predictions >= best_threshold, 1, 0)), 4)\n",
    "    f1 = round(f1_score(y_true, np.where(predictions >= best_threshold, 1, 0)), 4)\n",
    "\n",
    "    # Exibindo os resultados\n",
    "    print(f\"ROC-AUC: {auc}\")\n",
    "    print(f\"Precision: {precision}\")\n",
    "    print(f\"Recall: {recall}\")\n",
    "    print(f\"F1 Score: {f1}\")\n",
    "    print(\"-\" * 40)\n",
    "\n",
    "# Avaliação dos três modelos\n",
    "\n",
    "print(thresholds_and_aucs)\n",
    "\n",
    "# Para o modelo Decision Tree Ensemble\n",
    "evaluate_model_metrics(ensemble_preds_dst, thresholds_and_aucs['Decision Tree Ensemble']['best_thresh'], y_test, \"Ensemble Decision Tree\")\n",
    "\n",
    "# Para o modelo Random Forest Ensemble\n",
    "evaluate_model_metrics(ensemble_preds_rf, thresholds_and_aucs['Random Forest Ensemble']['best_thresh'], y_test, \"Ensemble Random Forest\")\n",
    "\n",
    "# Para o modelo XGBoost Ensemble\n",
    "evaluate_model_metrics(ensemble_preds_xgb, thresholds_and_aucs['XGBoost Ensemble']['best_thresh'], y_test, \"Ensemble XGBoost\")\n"
   ]
  }
 ],
 "metadata": {
  "kernelspec": {
   "display_name": "venv",
   "language": "python",
   "name": "python3"
  },
  "language_info": {
   "codemirror_mode": {
    "name": "ipython",
    "version": 3
   },
   "file_extension": ".py",
   "mimetype": "text/x-python",
   "name": "python",
   "nbconvert_exporter": "python",
   "pygments_lexer": "ipython3",
   "version": "3.12.3"
  }
 },
 "nbformat": 4,
 "nbformat_minor": 2
}
